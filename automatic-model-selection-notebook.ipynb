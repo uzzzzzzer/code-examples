{
 "cells": [
  {
   "cell_type": "markdown",
   "metadata": {
    "papermill": {
     "duration": 0.009591,
     "end_time": "2022-05-22T18:53:06.257755",
     "exception": false,
     "start_time": "2022-05-22T18:53:06.248164",
     "status": "completed"
    },
    "tags": []
   },
   "source": [
    "# Automatic model selection"
   ]
  },
  {
   "cell_type": "code",
   "execution_count": 1,
   "metadata": {
    "_cell_guid": "b1076dfc-b9ad-4769-8c92-a6c4dae69d19",
    "_uuid": "8f2839f25d086af736a60e9eeb907d3b93b6e0e5",
    "execution": {
     "iopub.execute_input": "2022-05-22T18:53:06.278560Z",
     "iopub.status.busy": "2022-05-22T18:53:06.277962Z",
     "iopub.status.idle": "2022-05-22T18:53:08.532304Z",
     "shell.execute_reply": "2022-05-22T18:53:08.531429Z"
    },
    "papermill": {
     "duration": 2.268403,
     "end_time": "2022-05-22T18:53:08.534839",
     "exception": false,
     "start_time": "2022-05-22T18:53:06.266436",
     "status": "completed"
    },
    "tags": []
   },
   "outputs": [
    {
     "data": {
      "text/html": [
       "<style type='text/css'>\n",
       ".datatable table.frame { margin-bottom: 0; }\n",
       ".datatable table.frame thead { border-bottom: none; }\n",
       ".datatable table.frame tr.coltypes td {  color: #FFFFFF;  line-height: 6px;  padding: 0 0.5em;}\n",
       ".datatable .bool    { background: #DDDD99; }\n",
       ".datatable .object  { background: #565656; }\n",
       ".datatable .int     { background: #5D9E5D; }\n",
       ".datatable .float   { background: #4040CC; }\n",
       ".datatable .str     { background: #CC4040; }\n",
       ".datatable .time    { background: #40CC40; }\n",
       ".datatable .row_index {  background: var(--jp-border-color3);  border-right: 1px solid var(--jp-border-color0);  color: var(--jp-ui-font-color3);  font-size: 9px;}\n",
       ".datatable .frame tbody td { text-align: left; }\n",
       ".datatable .frame tr.coltypes .row_index {  background: var(--jp-border-color0);}\n",
       ".datatable th:nth-child(2) { padding-left: 12px; }\n",
       ".datatable .hellipsis {  color: var(--jp-cell-editor-border-color);}\n",
       ".datatable .vellipsis {  background: var(--jp-layout-color0);  color: var(--jp-cell-editor-border-color);}\n",
       ".datatable .na {  color: var(--jp-cell-editor-border-color);  font-size: 80%;}\n",
       ".datatable .sp {  opacity: 0.25;}\n",
       ".datatable .footer { font-size: 9px; }\n",
       ".datatable .frame_dimensions {  background: var(--jp-border-color3);  border-top: 1px solid var(--jp-border-color0);  color: var(--jp-ui-font-color3);  display: inline-block;  opacity: 0.6;  padding: 1px 10px 1px 5px;}\n",
       "</style>\n"
      ],
      "text/plain": [
       "<IPython.core.display.HTML object>"
      ]
     },
     "metadata": {},
     "output_type": "display_data"
    }
   ],
   "source": [
    "import pandas as pd\n",
    "import numpy as np\n",
    "import re\n",
    "import warnings\n",
    "from sklearn.preprocessing import StandardScaler\n",
    "from sklearn.model_selection import RandomizedSearchCV, GridSearchCV\n",
    "from lightgbm import LGBMRegressor, LGBMClassifier\n",
    "from xgboost import XGBRegressor, XGBClassifier\n",
    "from sklearn.linear_model import LinearRegression, LogisticRegression\n",
    "from sklearn.neural_network import MLPClassifier, MLPRegressor\n",
    "from sklearn.ensemble import RandomForestClassifier, RandomForestRegressor\n",
    "from sklearn.preprocessing import PolynomialFeatures\n",
    "from sklearn.compose import ColumnTransformer\n",
    "from sklearn.pipeline import Pipeline\n",
    "from sklearn.impute import SimpleImputer\n",
    "from sklearn.preprocessing import OneHotEncoder\n",
    "from sklearn.model_selection import train_test_split\n",
    "from sklearn.model_selection import KFold\n",
    "warnings.filterwarnings(\"ignore\")\n",
    "\n",
    "class AutoModel():\n",
    "    def __init__(self, objective = None):\n",
    "        self.objective = objective\n",
    "        self.best_model = None\n",
    "        self.best_score = 0\n",
    "        self.models = []\n",
    "    def drop(self, s):\n",
    "        if(s != np.nan):\n",
    "            s = re.sub(\"[^0-9a-zA-Z]\", \"\",  str(s))\n",
    "            if(s == 'nan'):\n",
    "                return np.nan\n",
    "            return s\n",
    "        else:\n",
    "            return np.nan\n",
    "    def drop_special_characters(self, arr):\n",
    "        return pd.DataFrame([self.drop(s) for s in arr])\n",
    "    \n",
    "    def transform(self, X):\n",
    "        \n",
    "        X = pd.DataFrame(X)\n",
    "        X.columns = map(str,range(X.shape[1]))\n",
    "        for col in X.columns:\n",
    "            X[col] = self.drop_special_characters(X[col])\n",
    "            try:\n",
    "                X[col] = X[col].map(int)\n",
    "            except:\n",
    "                pass\n",
    "        return X\n",
    "                \n",
    "    def fit(self, X, y):\n",
    "        X, y = pd.DataFrame(X), pd.DataFrame(y)\n",
    "        y.columns = ['target']\n",
    "        X.columns = map(str,range(X.shape[1]))\n",
    "        df = pd.concat([X, y], axis = 1)\n",
    "        \n",
    "        if(df.dropna().shape[0] >= df.shape[0] * 0.95):\n",
    "            df = df.dropna()\n",
    "        X = df[X.columns]\n",
    "        y = df[y.columns]\n",
    "        \n",
    "        X = self.transform(X)\n",
    "        \n",
    "        self.objective = 'regression' if y['target'].dtype == 'float64' or self.objective == 'regression' else 'classification'\n",
    "        if(self.objective == 'regression'):\n",
    "            estimators = [LGBMRegressor(), XGBRegressor(), LinearRegression(), MLPRegressor(), RandomForestRegressor()]\n",
    "        else:\n",
    "            estimators = [LGBMClassifier(), XGBClassifier(), LogisticRegression(), MLPClassifier(), RandomForestClassifier()]\n",
    "            \n",
    "        grids = [{\n",
    "                  \"n_estimators\" : [10, 50, 100, 250, 500], \n",
    "                  \"learning_rate\" : [1e-4, 1e-3, 1e-2], \n",
    "                  \"num_leaves\" : [8, 16, 32, 64, 128],\n",
    "                  \"reg_alpha\" : [0, 1e-3, 1e-2, 1e-1], \n",
    "                  \"reg_lambda\" : [0, 1e-3, 1e-2, 1e-1]\n",
    "                },\n",
    "                {\n",
    "                  \"n_estimators\" : [10, 50, 100, 250, 500], \n",
    "                  \"learning_rate\" : [1e-4, 1e-3, 1e-2], \n",
    "                  \"max_depth\" : [2, 4, 6, 8, 10],\n",
    "                  \"reg_alpha\" : [0, 1e-3, 1e-2, 1e-1], \n",
    "                  \"reg_lambda\" : [0, 1e-3, 1e-2, 1e-1]\n",
    "                },\n",
    "                {\n",
    "                  \"fit_intercept\" : [True, False]  \n",
    "                },\n",
    "                {\n",
    "                  \"learning_rate\" : [\"constant\", \"invscaling\", \"adaptive\"],\n",
    "                  \"learning_rate_init\" : [1e-4, 1e-3, 1e-2],\n",
    "                  \"alpha\" : [0, 1e-3, 1e-2, 1e-1]\n",
    "                },\n",
    "                {\n",
    "                  \"n_estimators\" : [10, 50, 100, 250, 500], \n",
    "                  \"max_depth\" : [2, 4, 6, 8, 10],\n",
    "                  \"max_features\" : [\"sqrt\", 1, 0.8, 0.6, 0.4, 0.2]\n",
    "                }\n",
    "            \n",
    "        ]\n",
    "        \n",
    "        models = []\n",
    "        for i in range(len(estimators)):\n",
    "            numerical_transformer = Pipeline(steps = [\n",
    "                (\"imputer\", SimpleImputer(strategy='constant')),\n",
    "                (\"polynomial\", PolynomialFeatures(2)),\n",
    "                (\"Scaler\", StandardScaler())\n",
    "            ])\n",
    "\n",
    "            categorical_transformer = Pipeline(steps = [\n",
    "                ('imputer', SimpleImputer(strategy = 'most_frequent')),\n",
    "                ('onehot', OneHotEncoder(handle_unknown = 'ignore'))\n",
    "            ])\n",
    "            \n",
    "            categorical_cols = [cname for cname in X.columns if X[cname].dtype == \"object\"]\n",
    "            numerical_cols = [cname for cname in X.columns if X[cname].dtype in ['int64', 'float64']]\n",
    "            \n",
    "            preprocessor = ColumnTransformer(\n",
    "                transformers=[\n",
    "                    ('num', numerical_transformer, numerical_cols),\n",
    "                    ('cat', categorical_transformer, categorical_cols)\n",
    "                ])\n",
    "            X_train, X_test, y_train, y_test = train_test_split(X, y, test_size = 0.1, random_state = 42)\n",
    "            l = y_train.shape[0]\n",
    "            model = Pipeline([(\"Preprocessor\", preprocessor) ,\n",
    "                              (\"Search\", RandomizedSearchCV(n_iter = 50, estimator = estimators[i],\n",
    "                              param_distributions = grids[i], cv = KFold(n_splits = 3, shuffle = True)))])\n",
    "            \n",
    "            model.fit(X_train, y_train)\n",
    "            sc = model.score(X_test, y_test)\n",
    "            models.append((model.fit(X, y), sc))\n",
    "        models.sort(key = lambda x: x[1])\n",
    "        self.models = models\n",
    "        self.best_model = models[-1][0]\n",
    "        self.best_score = models[-1][1]\n",
    "    def predict(self, X):\n",
    "        return pd.DataFrame(self.best_model.predict(self.transform(X)))\n",
    "    def score(self, X, y):\n",
    "        X = self.transform(X)\n",
    "        return self.best_model.score(X, y)"
   ]
  },
  {
   "cell_type": "code",
   "execution_count": 2,
   "metadata": {
    "execution": {
     "iopub.execute_input": "2022-05-22T18:53:08.556894Z",
     "iopub.status.busy": "2022-05-22T18:53:08.556625Z",
     "iopub.status.idle": "2022-05-22T18:53:08.596363Z",
     "shell.execute_reply": "2022-05-22T18:53:08.595434Z"
    },
    "papermill": {
     "duration": 0.053662,
     "end_time": "2022-05-22T18:53:08.598891",
     "exception": false,
     "start_time": "2022-05-22T18:53:08.545229",
     "status": "completed"
    },
    "tags": []
   },
   "outputs": [
    {
     "data": {
      "text/html": [
       "<div>\n",
       "<style scoped>\n",
       "    .dataframe tbody tr th:only-of-type {\n",
       "        vertical-align: middle;\n",
       "    }\n",
       "\n",
       "    .dataframe tbody tr th {\n",
       "        vertical-align: top;\n",
       "    }\n",
       "\n",
       "    .dataframe thead th {\n",
       "        text-align: right;\n",
       "    }\n",
       "</style>\n",
       "<table border=\"1\" class=\"dataframe\">\n",
       "  <thead>\n",
       "    <tr style=\"text-align: right;\">\n",
       "      <th></th>\n",
       "      <th>PassengerId</th>\n",
       "      <th>Survived</th>\n",
       "      <th>Pclass</th>\n",
       "      <th>Name</th>\n",
       "      <th>Sex</th>\n",
       "      <th>Age</th>\n",
       "      <th>SibSp</th>\n",
       "      <th>Parch</th>\n",
       "      <th>Ticket</th>\n",
       "      <th>Fare</th>\n",
       "      <th>Cabin</th>\n",
       "      <th>Embarked</th>\n",
       "    </tr>\n",
       "  </thead>\n",
       "  <tbody>\n",
       "    <tr>\n",
       "      <th>0</th>\n",
       "      <td>1</td>\n",
       "      <td>0</td>\n",
       "      <td>3</td>\n",
       "      <td>Braund, Mr. Owen Harris</td>\n",
       "      <td>male</td>\n",
       "      <td>22.0</td>\n",
       "      <td>1</td>\n",
       "      <td>0</td>\n",
       "      <td>A/5 21171</td>\n",
       "      <td>7.2500</td>\n",
       "      <td>NaN</td>\n",
       "      <td>S</td>\n",
       "    </tr>\n",
       "    <tr>\n",
       "      <th>1</th>\n",
       "      <td>2</td>\n",
       "      <td>1</td>\n",
       "      <td>1</td>\n",
       "      <td>Cumings, Mrs. John Bradley (Florence Briggs Th...</td>\n",
       "      <td>female</td>\n",
       "      <td>38.0</td>\n",
       "      <td>1</td>\n",
       "      <td>0</td>\n",
       "      <td>PC 17599</td>\n",
       "      <td>71.2833</td>\n",
       "      <td>C85</td>\n",
       "      <td>C</td>\n",
       "    </tr>\n",
       "    <tr>\n",
       "      <th>2</th>\n",
       "      <td>3</td>\n",
       "      <td>1</td>\n",
       "      <td>3</td>\n",
       "      <td>Heikkinen, Miss. Laina</td>\n",
       "      <td>female</td>\n",
       "      <td>26.0</td>\n",
       "      <td>0</td>\n",
       "      <td>0</td>\n",
       "      <td>STON/O2. 3101282</td>\n",
       "      <td>7.9250</td>\n",
       "      <td>NaN</td>\n",
       "      <td>S</td>\n",
       "    </tr>\n",
       "    <tr>\n",
       "      <th>3</th>\n",
       "      <td>4</td>\n",
       "      <td>1</td>\n",
       "      <td>1</td>\n",
       "      <td>Futrelle, Mrs. Jacques Heath (Lily May Peel)</td>\n",
       "      <td>female</td>\n",
       "      <td>35.0</td>\n",
       "      <td>1</td>\n",
       "      <td>0</td>\n",
       "      <td>113803</td>\n",
       "      <td>53.1000</td>\n",
       "      <td>C123</td>\n",
       "      <td>S</td>\n",
       "    </tr>\n",
       "    <tr>\n",
       "      <th>4</th>\n",
       "      <td>5</td>\n",
       "      <td>0</td>\n",
       "      <td>3</td>\n",
       "      <td>Allen, Mr. William Henry</td>\n",
       "      <td>male</td>\n",
       "      <td>35.0</td>\n",
       "      <td>0</td>\n",
       "      <td>0</td>\n",
       "      <td>373450</td>\n",
       "      <td>8.0500</td>\n",
       "      <td>NaN</td>\n",
       "      <td>S</td>\n",
       "    </tr>\n",
       "  </tbody>\n",
       "</table>\n",
       "</div>"
      ],
      "text/plain": [
       "   PassengerId  Survived  Pclass  \\\n",
       "0            1         0       3   \n",
       "1            2         1       1   \n",
       "2            3         1       3   \n",
       "3            4         1       1   \n",
       "4            5         0       3   \n",
       "\n",
       "                                                Name     Sex   Age  SibSp  \\\n",
       "0                            Braund, Mr. Owen Harris    male  22.0      1   \n",
       "1  Cumings, Mrs. John Bradley (Florence Briggs Th...  female  38.0      1   \n",
       "2                             Heikkinen, Miss. Laina  female  26.0      0   \n",
       "3       Futrelle, Mrs. Jacques Heath (Lily May Peel)  female  35.0      1   \n",
       "4                           Allen, Mr. William Henry    male  35.0      0   \n",
       "\n",
       "   Parch            Ticket     Fare Cabin Embarked  \n",
       "0      0         A/5 21171   7.2500   NaN        S  \n",
       "1      0          PC 17599  71.2833   C85        C  \n",
       "2      0  STON/O2. 3101282   7.9250   NaN        S  \n",
       "3      0            113803  53.1000  C123        S  \n",
       "4      0            373450   8.0500   NaN        S  "
      ]
     },
     "execution_count": 2,
     "metadata": {},
     "output_type": "execute_result"
    }
   ],
   "source": [
    "import pandas as pd\n",
    "train = pd.read_csv(\"../input/titanic/train.csv\")\n",
    "test = pd.read_csv(\"../input/titanic/test.csv\")\n",
    "train.head()"
   ]
  },
  {
   "cell_type": "code",
   "execution_count": 3,
   "metadata": {
    "execution": {
     "iopub.execute_input": "2022-05-22T18:53:08.620792Z",
     "iopub.status.busy": "2022-05-22T18:53:08.620308Z",
     "iopub.status.idle": "2022-05-22T18:53:08.630386Z",
     "shell.execute_reply": "2022-05-22T18:53:08.629700Z"
    },
    "papermill": {
     "duration": 0.023641,
     "end_time": "2022-05-22T18:53:08.632464",
     "exception": false,
     "start_time": "2022-05-22T18:53:08.608823",
     "status": "completed"
    },
    "tags": []
   },
   "outputs": [],
   "source": [
    "X = train.drop([\"Survived\"], axis = 1)\n",
    "y = train.Survived"
   ]
  },
  {
   "cell_type": "code",
   "execution_count": 4,
   "metadata": {
    "execution": {
     "iopub.execute_input": "2022-05-22T18:53:08.653409Z",
     "iopub.status.busy": "2022-05-22T18:53:08.653080Z",
     "iopub.status.idle": "2022-05-22T18:53:08.657260Z",
     "shell.execute_reply": "2022-05-22T18:53:08.656265Z"
    },
    "papermill": {
     "duration": 0.01736,
     "end_time": "2022-05-22T18:53:08.659843",
     "exception": false,
     "start_time": "2022-05-22T18:53:08.642483",
     "status": "completed"
    },
    "tags": []
   },
   "outputs": [],
   "source": [
    "model = AutoModel()"
   ]
  },
  {
   "cell_type": "code",
   "execution_count": 5,
   "metadata": {
    "execution": {
     "iopub.execute_input": "2022-05-22T18:53:08.681222Z",
     "iopub.status.busy": "2022-05-22T18:53:08.680920Z",
     "iopub.status.idle": "2022-05-22T19:17:51.830989Z",
     "shell.execute_reply": "2022-05-22T19:17:51.829892Z"
    },
    "papermill": {
     "duration": 1483.163931,
     "end_time": "2022-05-22T19:17:51.833423",
     "exception": false,
     "start_time": "2022-05-22T18:53:08.669492",
     "status": "completed"
    },
    "tags": []
   },
   "outputs": [],
   "source": [
    "model.fit(X, y)"
   ]
  },
  {
   "cell_type": "code",
   "execution_count": 6,
   "metadata": {
    "execution": {
     "iopub.execute_input": "2022-05-22T19:17:51.854153Z",
     "iopub.status.busy": "2022-05-22T19:17:51.853880Z",
     "iopub.status.idle": "2022-05-22T19:17:51.859504Z",
     "shell.execute_reply": "2022-05-22T19:17:51.858640Z"
    },
    "papermill": {
     "duration": 0.018627,
     "end_time": "2022-05-22T19:17:51.861905",
     "exception": false,
     "start_time": "2022-05-22T19:17:51.843278",
     "status": "completed"
    },
    "tags": []
   },
   "outputs": [
    {
     "name": "stdout",
     "output_type": "stream",
     "text": [
      "Best score: 0.8444444444444444\n"
     ]
    }
   ],
   "source": [
    "print(\"Best score:\", max([i[-1] for i in model.models]))"
   ]
  },
  {
   "cell_type": "code",
   "execution_count": 7,
   "metadata": {
    "execution": {
     "iopub.execute_input": "2022-05-22T19:17:51.884885Z",
     "iopub.status.busy": "2022-05-22T19:17:51.884225Z",
     "iopub.status.idle": "2022-05-22T19:17:51.898296Z",
     "shell.execute_reply": "2022-05-22T19:17:51.897260Z"
    },
    "papermill": {
     "duration": 0.028251,
     "end_time": "2022-05-22T19:17:51.901277",
     "exception": false,
     "start_time": "2022-05-22T19:17:51.873026",
     "status": "completed"
    },
    "tags": []
   },
   "outputs": [],
   "source": [
    "submission = pd.read_csv(\"../input/titanic/gender_submission.csv\")"
   ]
  },
  {
   "cell_type": "code",
   "execution_count": 8,
   "metadata": {
    "execution": {
     "iopub.execute_input": "2022-05-22T19:17:51.924800Z",
     "iopub.status.busy": "2022-05-22T19:17:51.924487Z",
     "iopub.status.idle": "2022-05-22T19:17:51.967233Z",
     "shell.execute_reply": "2022-05-22T19:17:51.966391Z"
    },
    "papermill": {
     "duration": 0.057679,
     "end_time": "2022-05-22T19:17:51.969831",
     "exception": false,
     "start_time": "2022-05-22T19:17:51.912152",
     "status": "completed"
    },
    "tags": []
   },
   "outputs": [],
   "source": [
    "submission[\"Survived\"] = model.predict(test)\n",
    "submission.to_csv(\"submission.csv\", index = False)"
   ]
  }
 ],
 "metadata": {
  "kernelspec": {
   "display_name": "Python 3",
   "language": "python",
   "name": "python3"
  },
  "language_info": {
   "codemirror_mode": {
    "name": "ipython",
    "version": 3
   },
   "file_extension": ".py",
   "mimetype": "text/x-python",
   "name": "python",
   "nbconvert_exporter": "python",
   "pygments_lexer": "ipython3",
   "version": "3.7.6"
  },
  "papermill": {
   "default_parameters": {},
   "duration": 1495.769084,
   "end_time": "2022-05-22T19:17:52.923204",
   "environment_variables": {},
   "exception": null,
   "input_path": "__notebook__.ipynb",
   "output_path": "__notebook__.ipynb",
   "parameters": {},
   "start_time": "2022-05-22T18:52:57.154120",
   "version": "2.3.4"
  }
 },
 "nbformat": 4,
 "nbformat_minor": 5
}
